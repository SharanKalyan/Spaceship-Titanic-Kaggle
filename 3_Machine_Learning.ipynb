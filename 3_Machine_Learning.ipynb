{
 "cells": [
  {
   "cell_type": "code",
   "execution_count": 2,
   "id": "8250318a",
   "metadata": {},
   "outputs": [],
   "source": [
    "import pandas as pd\n",
    "import numpy as np\n",
    "##visuals\n",
    "import matplotlib.pyplot as plt\n",
    "import seaborn as sns\n",
    "\n",
    "## other\n",
    "import warnings\n",
    "warnings.filterwarnings('ignore')\n",
    "pd.set_option('display.max_columns',None)\n",
    "pd.set_option('display.max_rows',None)"
   ]
  },
  {
   "cell_type": "code",
   "execution_count": 21,
   "id": "937cc41c",
   "metadata": {},
   "outputs": [],
   "source": [
    "df = pd.read_csv('to_machinelearning.csv')\n",
    "test = pd.read_csv('clean_test.csv')"
   ]
  },
  {
   "cell_type": "code",
   "execution_count": 22,
   "id": "1540f1a5",
   "metadata": {},
   "outputs": [],
   "source": [
    "ml = df.copy()"
   ]
  },
  {
   "cell_type": "code",
   "execution_count": 48,
   "id": "a5240ad8",
   "metadata": {},
   "outputs": [
    {
     "data": {
      "text/html": [
       "<div>\n",
       "<style scoped>\n",
       "    .dataframe tbody tr th:only-of-type {\n",
       "        vertical-align: middle;\n",
       "    }\n",
       "\n",
       "    .dataframe tbody tr th {\n",
       "        vertical-align: top;\n",
       "    }\n",
       "\n",
       "    .dataframe thead th {\n",
       "        text-align: right;\n",
       "    }\n",
       "</style>\n",
       "<table border=\"1\" class=\"dataframe\">\n",
       "  <thead>\n",
       "    <tr style=\"text-align: right;\">\n",
       "      <th></th>\n",
       "      <th>HomePlanet</th>\n",
       "      <th>CryoSleep</th>\n",
       "      <th>Cabin_Deck</th>\n",
       "      <th>Cabin_Side</th>\n",
       "      <th>Cabin_DS</th>\n",
       "      <th>Destination</th>\n",
       "      <th>Age</th>\n",
       "      <th>VIP</th>\n",
       "      <th>RoomService</th>\n",
       "      <th>Spa</th>\n",
       "      <th>VRDeck</th>\n",
       "      <th>Total_Expenses</th>\n",
       "      <th>Transported</th>\n",
       "    </tr>\n",
       "  </thead>\n",
       "  <tbody>\n",
       "    <tr>\n",
       "      <th>0</th>\n",
       "      <td>2</td>\n",
       "      <td>0</td>\n",
       "      <td>2</td>\n",
       "      <td>1</td>\n",
       "      <td>1</td>\n",
       "      <td>1</td>\n",
       "      <td>39.0</td>\n",
       "      <td>False</td>\n",
       "      <td>0.0</td>\n",
       "      <td>0.0</td>\n",
       "      <td>0.0</td>\n",
       "      <td>0.0</td>\n",
       "      <td>False</td>\n",
       "    </tr>\n",
       "    <tr>\n",
       "      <th>1</th>\n",
       "      <td>1</td>\n",
       "      <td>0</td>\n",
       "      <td>6</td>\n",
       "      <td>2</td>\n",
       "      <td>2</td>\n",
       "      <td>1</td>\n",
       "      <td>24.0</td>\n",
       "      <td>False</td>\n",
       "      <td>109.0</td>\n",
       "      <td>549.0</td>\n",
       "      <td>44.0</td>\n",
       "      <td>702.0</td>\n",
       "      <td>True</td>\n",
       "    </tr>\n",
       "    <tr>\n",
       "      <th>2</th>\n",
       "      <td>2</td>\n",
       "      <td>0</td>\n",
       "      <td>1</td>\n",
       "      <td>2</td>\n",
       "      <td>3</td>\n",
       "      <td>1</td>\n",
       "      <td>58.0</td>\n",
       "      <td>True</td>\n",
       "      <td>43.0</td>\n",
       "      <td>6715.0</td>\n",
       "      <td>49.0</td>\n",
       "      <td>6807.0</td>\n",
       "      <td>False</td>\n",
       "    </tr>\n",
       "    <tr>\n",
       "      <th>3</th>\n",
       "      <td>2</td>\n",
       "      <td>0</td>\n",
       "      <td>1</td>\n",
       "      <td>2</td>\n",
       "      <td>3</td>\n",
       "      <td>1</td>\n",
       "      <td>33.0</td>\n",
       "      <td>False</td>\n",
       "      <td>0.0</td>\n",
       "      <td>3329.0</td>\n",
       "      <td>193.0</td>\n",
       "      <td>3522.0</td>\n",
       "      <td>False</td>\n",
       "    </tr>\n",
       "    <tr>\n",
       "      <th>4</th>\n",
       "      <td>1</td>\n",
       "      <td>0</td>\n",
       "      <td>6</td>\n",
       "      <td>2</td>\n",
       "      <td>2</td>\n",
       "      <td>1</td>\n",
       "      <td>16.0</td>\n",
       "      <td>False</td>\n",
       "      <td>303.0</td>\n",
       "      <td>565.0</td>\n",
       "      <td>2.0</td>\n",
       "      <td>870.0</td>\n",
       "      <td>True</td>\n",
       "    </tr>\n",
       "  </tbody>\n",
       "</table>\n",
       "</div>"
      ],
      "text/plain": [
       "   HomePlanet  CryoSleep  Cabin_Deck  Cabin_Side  Cabin_DS  Destination   Age  \\\n",
       "0           2          0           2           1         1            1  39.0   \n",
       "1           1          0           6           2         2            1  24.0   \n",
       "2           2          0           1           2         3            1  58.0   \n",
       "3           2          0           1           2         3            1  33.0   \n",
       "4           1          0           6           2         2            1  16.0   \n",
       "\n",
       "     VIP  RoomService     Spa  VRDeck  Total_Expenses  Transported  \n",
       "0  False          0.0     0.0     0.0             0.0        False  \n",
       "1  False        109.0   549.0    44.0           702.0         True  \n",
       "2   True         43.0  6715.0    49.0          6807.0        False  \n",
       "3  False          0.0  3329.0   193.0          3522.0        False  \n",
       "4  False        303.0   565.0     2.0           870.0         True  "
      ]
     },
     "execution_count": 48,
     "metadata": {},
     "output_type": "execute_result"
    }
   ],
   "source": [
    "ml.head()"
   ]
  },
  {
   "cell_type": "markdown",
   "id": "af2e1465",
   "metadata": {},
   "source": [
    "### Lets now do the data preprocessing"
   ]
  },
  {
   "cell_type": "code",
   "execution_count": 24,
   "id": "1ec157fc",
   "metadata": {},
   "outputs": [],
   "source": [
    "ml.drop(['PassengerId','Name','Passenger_group','Passenger_No','Cabin','Age_Catg','FoodCourt','ShoppingMall'],axis=1,inplace=True)"
   ]
  },
  {
   "cell_type": "code",
   "execution_count": 26,
   "id": "891e2391",
   "metadata": {},
   "outputs": [],
   "source": [
    "ml['HomePlanet'] = ml['HomePlanet'].map({'Earth':1,'Europa':2,'Mars':3})"
   ]
  },
  {
   "cell_type": "code",
   "execution_count": 28,
   "id": "e71d3aa5",
   "metadata": {},
   "outputs": [],
   "source": [
    "ml['CryoSleep'] = ml['CryoSleep'].map({False:0,True:1})"
   ]
  },
  {
   "cell_type": "code",
   "execution_count": 36,
   "id": "4cce103d",
   "metadata": {},
   "outputs": [],
   "source": [
    "ml['Cabin_Deck'] = ml['Cabin_Deck'].map({'A':1,'B':2,'C':3,'D':4,'E':5,'F':6,'G':7,'T':8})"
   ]
  },
  {
   "cell_type": "code",
   "execution_count": 39,
   "id": "89e3d01d",
   "metadata": {},
   "outputs": [],
   "source": [
    "ml['Cabin_Side'] = ml['Cabin_Side'].map({'P':1,'S':2})"
   ]
  },
  {
   "cell_type": "code",
   "execution_count": 44,
   "id": "c95a6488",
   "metadata": {},
   "outputs": [],
   "source": [
    "dslist = ml['Cabin_DS'].unique().tolist()\n",
    "dsid = np.arange(1,len(dslist)+1)\n",
    "ml['Cabin_DS'].replace(dslist,dsid,True)"
   ]
  },
  {
   "cell_type": "code",
   "execution_count": 46,
   "id": "fe4e0d59",
   "metadata": {},
   "outputs": [
    {
     "data": {
      "text/plain": [
       "array(['TRAPPIST-1e', 'PSO J318.5-22', '55 Cancri e'], dtype=object)"
      ]
     },
     "execution_count": 46,
     "metadata": {},
     "output_type": "execute_result"
    }
   ],
   "source": [
    "ml['Destination'].unique()"
   ]
  },
  {
   "cell_type": "code",
   "execution_count": 47,
   "id": "85eae6fa",
   "metadata": {},
   "outputs": [],
   "source": [
    "dest_list = ml['Destination'].unique().tolist()\n",
    "dest_id = np.arange(1,len(dest_list)+1)\n",
    "ml['Destination'].replace(dest_list,dest_id,True)"
   ]
  },
  {
   "cell_type": "code",
   "execution_count": null,
   "id": "83d7ceee",
   "metadata": {},
   "outputs": [],
   "source": []
  }
 ],
 "metadata": {
  "kernelspec": {
   "display_name": "Python 3 (ipykernel)",
   "language": "python",
   "name": "python3"
  },
  "language_info": {
   "codemirror_mode": {
    "name": "ipython",
    "version": 3
   },
   "file_extension": ".py",
   "mimetype": "text/x-python",
   "name": "python",
   "nbconvert_exporter": "python",
   "pygments_lexer": "ipython3",
   "version": "3.8.12"
  }
 },
 "nbformat": 4,
 "nbformat_minor": 5
}
